{
 "cells": [
  {
   "cell_type": "code",
   "execution_count": 1,
   "metadata": {},
   "outputs": [],
   "source": [
    "import pandas as pd\n",
    "import numpy as np\n",
    "import matplotlib.pyplot as plt\n",
    "import seaborn as sns\n",
    "from scipy import stats\n",
    "import warnings\n",
    "\n",
    "from datetime import datetime\n",
    "\n",
    "warnings.filterwarnings('ignore')\n",
    "%matplotlib inline"
   ]
  },
  {
   "cell_type": "code",
   "execution_count": 2,
   "metadata": {
    "scrolled": true
   },
   "outputs": [
    {
     "name": "stdout",
     "output_type": "stream",
     "text": [
      "Index(['S_No', 'Year', 'Month', 'Week', 'Merchant_ID', 'Product_ID', 'Country',\n",
      "       'Sales'],\n",
      "      dtype='object')\n",
      "Index(['S_No', 'Year', 'Month', 'Product_ID', 'Country', 'Sales'], dtype='object')\n",
      "Index(['Date', 'Country', 'Holiday', 'holiday_cleaned_final'], dtype='object')\n",
      "Index(['Year', 'Month', 'Country', 'Product_Type', 'Expense_Price'], dtype='object')\n"
     ]
    }
   ],
   "source": [
    "train_data = pd.read_csv(\"yds_train2018.csv\")\n",
    "print(train_data.columns)\n",
    "\n",
    "test_data = pd.read_csv(\"yds_test2018.csv\")\n",
    "print(test_data.columns)\n",
    "\n",
    "#holidays = pd.read_excel(\"holidays.xlsx\")\n",
    "holidays = pd.read_csv(\"holidays_cleaned_mapping.csv\", encoding='cp1252')\n",
    "print(holidays.columns)\n",
    "\n",
    "promotional_expense = pd.read_csv(\"promotional_expense.csv\")\n",
    "print(promotional_expense.columns)"
   ]
  },
  {
   "cell_type": "code",
   "execution_count": null,
   "metadata": {},
   "outputs": [],
   "source": [
    "train_data.groupby(['Product_ID', 'Merchant_ID', 'Year', 'Month', 'Week']).count()"
   ]
  },
  {
   "cell_type": "code",
   "execution_count": null,
   "metadata": {},
   "outputs": [],
   "source": []
  },
  {
   "cell_type": "code",
   "execution_count": null,
   "metadata": {},
   "outputs": [],
   "source": [
    "train_data.dtypes"
   ]
  },
  {
   "cell_type": "code",
   "execution_count": null,
   "metadata": {},
   "outputs": [],
   "source": [
    "len(train_data)"
   ]
  },
  {
   "cell_type": "code",
   "execution_count": 3,
   "metadata": {},
   "outputs": [
    {
     "data": {
      "text/plain": [
       "Int64Index([50593, 51736, 60879], dtype='int64')"
      ]
     },
     "execution_count": 3,
     "metadata": {},
     "output_type": "execute_result"
    }
   ],
   "source": [
    "train_data[(train_data.Sales< -2000000) | (train_data.Sales > 3e7)].index"
   ]
  },
  {
   "cell_type": "code",
   "execution_count": 4,
   "metadata": {},
   "outputs": [],
   "source": [
    "train_data = train_data.drop(train_data[(train_data.Sales< -2000000) | (train_data.Sales > 3e7)].index)"
   ]
  },
  {
   "cell_type": "code",
   "execution_count": null,
   "metadata": {},
   "outputs": [],
   "source": [
    "\n",
    "min_sales"
   ]
  },
  {
   "cell_type": "code",
   "execution_count": null,
   "metadata": {},
   "outputs": [],
   "source": [
    "train_data.plot( y=\"Sales\", marker='.', linestyle='none')"
   ]
  },
  {
   "cell_type": "code",
   "execution_count": null,
   "metadata": {},
   "outputs": [],
   "source": [
    "min_sales = train_data['Sales'].min()\n",
    "arr, _ = stats.boxcox(train_data['Sales'] + abs(min_sales) + 0.0001)\n",
    "train_data['Sales'] = pd.Series(arr)\n",
    "train_data = train_data.dropna(subset=['Sales'])"
   ]
  },
  {
   "cell_type": "code",
   "execution_count": null,
   "metadata": {},
   "outputs": [],
   "source": [
    "len(pd.Series(arr))"
   ]
  },
  {
   "cell_type": "code",
   "execution_count": null,
   "metadata": {},
   "outputs": [],
   "source": [
    "train_data['Sales'] = pd.Series(arr)"
   ]
  },
  {
   "cell_type": "code",
   "execution_count": null,
   "metadata": {},
   "outputs": [],
   "source": [
    "train_data = train_data.dropna(subset=['Sales'])"
   ]
  },
  {
   "cell_type": "code",
   "execution_count": 5,
   "metadata": {
    "scrolled": true
   },
   "outputs": [
    {
     "data": {
      "text/html": [
       "<div>\n",
       "<style scoped>\n",
       "    .dataframe tbody tr th:only-of-type {\n",
       "        vertical-align: middle;\n",
       "    }\n",
       "\n",
       "    .dataframe tbody tr th {\n",
       "        vertical-align: top;\n",
       "    }\n",
       "\n",
       "    .dataframe thead th {\n",
       "        text-align: right;\n",
       "    }\n",
       "</style>\n",
       "<table border=\"1\" class=\"dataframe\">\n",
       "  <thead>\n",
       "    <tr style=\"text-align: right;\">\n",
       "      <th></th>\n",
       "      <th>S_No</th>\n",
       "      <th>Year</th>\n",
       "      <th>Month</th>\n",
       "      <th>Product_ID</th>\n",
       "      <th>Country</th>\n",
       "      <th>Sales</th>\n",
       "      <th>Merchant_ID</th>\n",
       "    </tr>\n",
       "  </thead>\n",
       "  <tbody>\n",
       "    <tr>\n",
       "      <th>0</th>\n",
       "      <td>79073</td>\n",
       "      <td>2016</td>\n",
       "      <td>4</td>\n",
       "      <td>1</td>\n",
       "      <td>Argentina</td>\n",
       "      <td>NaN</td>\n",
       "      <td>ar00002</td>\n",
       "    </tr>\n",
       "    <tr>\n",
       "      <th>1</th>\n",
       "      <td>79073</td>\n",
       "      <td>2016</td>\n",
       "      <td>4</td>\n",
       "      <td>1</td>\n",
       "      <td>Argentina</td>\n",
       "      <td>NaN</td>\n",
       "      <td>ar00004</td>\n",
       "    </tr>\n",
       "    <tr>\n",
       "      <th>2</th>\n",
       "      <td>79073</td>\n",
       "      <td>2016</td>\n",
       "      <td>4</td>\n",
       "      <td>1</td>\n",
       "      <td>Argentina</td>\n",
       "      <td>NaN</td>\n",
       "      <td>ar000012</td>\n",
       "    </tr>\n",
       "    <tr>\n",
       "      <th>3</th>\n",
       "      <td>79073</td>\n",
       "      <td>2016</td>\n",
       "      <td>4</td>\n",
       "      <td>1</td>\n",
       "      <td>Argentina</td>\n",
       "      <td>NaN</td>\n",
       "      <td>ar000014</td>\n",
       "    </tr>\n",
       "    <tr>\n",
       "      <th>4</th>\n",
       "      <td>79073</td>\n",
       "      <td>2016</td>\n",
       "      <td>4</td>\n",
       "      <td>1</td>\n",
       "      <td>Argentina</td>\n",
       "      <td>NaN</td>\n",
       "      <td>ar000015</td>\n",
       "    </tr>\n",
       "  </tbody>\n",
       "</table>\n",
       "</div>"
      ],
      "text/plain": [
       "    S_No  Year  Month  Product_ID    Country  Sales Merchant_ID\n",
       "0  79073  2016      4           1  Argentina    NaN     ar00002\n",
       "1  79073  2016      4           1  Argentina    NaN     ar00004\n",
       "2  79073  2016      4           1  Argentina    NaN    ar000012\n",
       "3  79073  2016      4           1  Argentina    NaN    ar000014\n",
       "4  79073  2016      4           1  Argentina    NaN    ar000015"
      ]
     },
     "execution_count": 5,
     "metadata": {},
     "output_type": "execute_result"
    }
   ],
   "source": [
    "new_test_data = pd.DataFrame()\n",
    "Merchant_id_df = dict()\n",
    "\n",
    "def str_key(country, year, month, product):\n",
    "    return country + str(year) + str(month) + str(product)\n",
    "\n",
    "for index, item in test_data.iterrows():\n",
    "    country = item.Country\n",
    "    lastmonth = item.Month\n",
    "    lastyear = item.Year\n",
    "    product = item.Product_ID\n",
    "    if item.Month == 1:\n",
    "        lastyear = item.Year - 1\n",
    "        lastmonth = 12\n",
    "    else:\n",
    "        lastmonth = item.Month - 1\n",
    "\n",
    "    #Merchant_Ids = Merchant_id_df[(Merchant_id_df.Year == year) & (Merchant_id_df.Month == month) & (Merchant_id_df.Country == country) & (Merchant_id_df.Product_ID == product)]['Merchant_ID']\n",
    "    Merchant_Ids = []\n",
    "    if str_key(country, lastyear, lastmonth, product) not in Merchant_id_df.keys():\n",
    "        Merchant_Ids = train_data[(train_data.Product_ID == product ) & (train_data.Country == country) & (train_data.Month == lastmonth) & (train_data.Year == lastyear)][\"Merchant_ID\"].unique()\n",
    "        Merchant_id_df[str_key(country, item.Year, item.Month, product)] = Merchant_Ids\n",
    "    else:\n",
    "        Merchant_Ids = Merchant_id_df[str_key(country, lastyear, lastmonth, product)]\n",
    "        Merchant_id_df[str_key(country, item.Year, item.Month, product)] = Merchant_Ids\n",
    "    \n",
    "    #print(Merchant_Ids)\n",
    "    temp_df = pd.DataFrame([item]* len(Merchant_Ids))\n",
    "    temp_df[\"Merchant_ID\"] = Merchant_Ids\n",
    "    new_test_data = new_test_data.append(temp_df, ignore_index=True)\n",
    "\n",
    "new_test_data[\"Month\"] = new_test_data.Month.astype(\"int8\")\n",
    "new_test_data[\"Year\"] = new_test_data.Year.astype(\"int16\")\n",
    "new_test_data[\"S_No\"] = new_test_data.S_No.astype(\"int32\")\n",
    "new_test_data[\"Product_ID\"] = new_test_data.Product_ID.astype(\"int32\")\n",
    "\n",
    "new_test_data.to_csv(\"new_test_data.csv\")\n",
    "new_test_data.head()"
   ]
  },
  {
   "cell_type": "code",
   "execution_count": 6,
   "metadata": {},
   "outputs": [],
   "source": [
    "promotional_expense = promotional_expense.rename(columns={\"Product_Type\": \"Product_ID\"})"
   ]
  },
  {
   "cell_type": "code",
   "execution_count": 7,
   "metadata": {},
   "outputs": [],
   "source": [
    "train_data = train_data.groupby(['Year', 'Month', 'Merchant_ID', 'Product_ID', 'Country'])['Sales'].sum().reset_index(level=[0,1,2,3,4])"
   ]
  },
  {
   "cell_type": "code",
   "execution_count": 8,
   "metadata": {},
   "outputs": [],
   "source": [
    "train_data = train_data.merge(promotional_expense, how=\"left\")\n",
    "new_test_data = new_test_data.merge(promotional_expense, how=\"left\")"
   ]
  },
  {
   "cell_type": "code",
   "execution_count": 9,
   "metadata": {
    "scrolled": true
   },
   "outputs": [
    {
     "data": {
      "text/plain": [
       "array(['new years day', 'maundy thursday', 'good friday', 'easter day',\n",
       "       'big bedday', 'ascension day', 'whit monday', 'christmas',\n",
       "       'boxing day', 'pass', 'pentecost', 'labour day',\n",
       "       'national holiday', 'all saints day', 'truce', 'carnivals day',\n",
       "       'memorys national day for the truth and justice',\n",
       "       'veterans dayand the fallen in the malvinas war', 'may day',\n",
       "       'day pass to the immortality of general', 'independence day',\n",
       "       'respect for cultural diversity day', 'national sovereignty day',\n",
       "       'immaculate conception', 'battle of boyacá', 'epiphany',\n",
       "       'saint josephs day', 'sacred heart', 'assumption of mary',\n",
       "       'discovery of america', 'body of christ',\n",
       "       'saint peter and saint paul', 'bank holiday',\n",
       "       'diamond jubilee of elizabeth ii',\n",
       "       'wedding of william and catherine', 'first of may',\n",
       "       'midsummer day'], dtype=object)"
      ]
     },
     "execution_count": 9,
     "metadata": {},
     "output_type": "execute_result"
    }
   ],
   "source": [
    "holidays['holiday_cleaned_final'].unique()"
   ]
  },
  {
   "cell_type": "code",
   "execution_count": 10,
   "metadata": {},
   "outputs": [],
   "source": [
    "# imp_features = ['new years day', 'bank holiday', 'christmas', 'easter day', 'good friday', 'labour day', 'independence day', 'ascension day']\n",
    "imp_features = ['new years day', 'maundy thursday', 'good friday', 'easter day',\n",
    "       'big bedday', 'ascension day', 'whit monday', 'christmas',\n",
    "       'boxing day', 'pass', 'pentecost', 'labour day',\n",
    "       'national holiday', 'all saints day', 'truce', 'carnivals day',\n",
    "       'memorys national day for the truth and justice',\n",
    "       'veterans dayand the fallen in the malvinas war', 'may day',\n",
    "       'day pass to the immortality of general', 'independence day',\n",
    "       'respect for cultural diversity day', 'national sovereignty day',\n",
    "       'immaculate conception', 'battle of boyacá', 'epiphany',\n",
    "       'saint josephs day', 'sacred heart', 'assumption of mary',\n",
    "       'discovery of america', 'body of christ',\n",
    "       'saint peter and saint paul', 'bank holiday',\n",
    "       'diamond jubilee of elizabeth ii',\n",
    "       'wedding of william and catherine', 'first of may',\n",
    "       'midsummer day']\n",
    "holidays_dummies = pd.get_dummies(holidays['holiday_cleaned_final'])[imp_features]"
   ]
  },
  {
   "cell_type": "code",
   "execution_count": 11,
   "metadata": {},
   "outputs": [],
   "source": [
    "holidays = holidays.join(holidays_dummies)"
   ]
  },
  {
   "cell_type": "code",
   "execution_count": 12,
   "metadata": {},
   "outputs": [],
   "source": [
    "def parse_date(item):\n",
    "    return datetime.strptime(item, '%Y, %m, %d')\n",
    "\n",
    "holidays['parsedDate'] = holidays['Date'].apply(parse_date)"
   ]
  },
  {
   "cell_type": "code",
   "execution_count": 13,
   "metadata": {},
   "outputs": [],
   "source": [
    "holidays['Year'] = pd.DatetimeIndex(holidays['parsedDate']).year\n",
    "holidays['Month'] = pd.DatetimeIndex(holidays['parsedDate']).month"
   ]
  },
  {
   "cell_type": "code",
   "execution_count": 14,
   "metadata": {},
   "outputs": [],
   "source": [
    "counted_holidays = pd.DataFrame(holidays.groupby(['Country', 'Year', 'Month'])[imp_features + [\"Date\"]].count())\n",
    "counted_holidays = counted_holidays.rename(columns={'Date': 'Holidays'})\n",
    "counted_holidays = counted_holidays.reset_index(level=[0, 1, 2])"
   ]
  },
  {
   "cell_type": "code",
   "execution_count": 15,
   "metadata": {},
   "outputs": [],
   "source": [
    "train_data = train_data.merge(counted_holidays, how=\"left\")\n",
    "new_test_data = new_test_data.merge(counted_holidays, how=\"left\")"
   ]
  },
  {
   "cell_type": "code",
   "execution_count": 16,
   "metadata": {},
   "outputs": [],
   "source": [
    "train_data['Holidays'] = train_data['Holidays'].fillna(0)\n",
    "new_test_data['Holidays'] = new_test_data['Holidays'].fillna(0)\n",
    "\n",
    "train_data[imp_features] = train_data[imp_features].fillna(0)\n",
    "new_test_data[imp_features] = new_test_data[imp_features].fillna(0)"
   ]
  },
  {
   "cell_type": "code",
   "execution_count": 17,
   "metadata": {},
   "outputs": [],
   "source": [
    "from sklearn.preprocessing import LabelEncoder\n",
    "\n",
    "country_encoder = LabelEncoder()\n",
    "country_encoder.fit(train_data['Country'])\n",
    "train_data['Country_cid'] = pd.Series(country_encoder.transform(train_data['Country']))\n",
    "new_test_data['Country_cid'] = pd.Series(country_encoder.transform(new_test_data['Country']))\n",
    "train_data = train_data.join(pd.get_dummies(train_data['Country_cid'], prefix=\"COUNTRY\"))\n",
    "new_test_data = new_test_data.join(pd.get_dummies(new_test_data['Country_cid'], prefix=\"COUNTRY\"))\n",
    "\n",
    "country_features = ['COUNTRY_0', 'COUNTRY_1', 'COUNTRY_2', 'COUNTRY_3', 'COUNTRY_4',\n",
    "       'COUNTRY_5'];"
   ]
  },
  {
   "cell_type": "code",
   "execution_count": 18,
   "metadata": {},
   "outputs": [],
   "source": [
    "merchant_encoder = LabelEncoder()\n",
    "merchant_encoder.fit(train_data['Merchant_ID'])\n",
    "train_data['Merchant_ID_cid'] = pd.Series(merchant_encoder.transform(train_data['Merchant_ID']))\n",
    "new_test_data['Merchant_ID_cid'] = pd.Series(merchant_encoder.transform(new_test_data['Merchant_ID']))"
   ]
  },
  {
   "cell_type": "code",
   "execution_count": 19,
   "metadata": {
    "scrolled": true
   },
   "outputs": [],
   "source": [
    "product_features = ['PRODUCT_1', 'PRODUCT_2', 'PRODUCT_3', 'PRODUCT_4', 'PRODUCT_5'];\n",
    "country_features = ['COUNTRY_0', 'COUNTRY_1', 'COUNTRY_2', 'COUNTRY_3', 'COUNTRY_4',\n",
    "       'COUNTRY_5'];"
   ]
  },
  {
   "cell_type": "code",
   "execution_count": 20,
   "metadata": {},
   "outputs": [],
   "source": [
    "train_data = train_data.join(pd.get_dummies(train_data['Product_ID'], prefix=\"PRODUCT\"))\n",
    "new_test_data = new_test_data.join(pd.get_dummies(new_test_data['Product_ID'], prefix=\"PRODUCT\"))\n",
    "\n",
    "product_features = ['PRODUCT_1', 'PRODUCT_2', 'PRODUCT_3', 'PRODUCT_4', 'PRODUCT_5'];"
   ]
  },
  {
   "cell_type": "code",
   "execution_count": null,
   "metadata": {},
   "outputs": [],
   "source": [
    "train_data.isnull().sum()"
   ]
  },
  {
   "cell_type": "code",
   "execution_count": null,
   "metadata": {},
   "outputs": [],
   "source": [
    "new_test_data.isnull().sum()"
   ]
  },
  {
   "cell_type": "code",
   "execution_count": null,
   "metadata": {},
   "outputs": [],
   "source": [
    "promotional_expense[(promotional_expense.Country == \"Columbia\") & (promotional_expense.Product_ID == 1)].reset_index().plot(y=\"Expense_Price\")"
   ]
  },
  {
   "cell_type": "code",
   "execution_count": 21,
   "metadata": {},
   "outputs": [
    {
     "data": {
      "text/plain": [
       "5347.1449999999995"
      ]
     },
     "execution_count": 21,
     "metadata": {},
     "output_type": "execute_result"
    }
   ],
   "source": [
    "promotional_expense[(promotional_expense.Country == \"Argentina\")][\"Expense_Price\"].median()"
   ]
  },
  {
   "cell_type": "code",
   "execution_count": 22,
   "metadata": {},
   "outputs": [
    {
     "data": {
      "text/plain": [
       "2022.8995"
      ]
     },
     "execution_count": 22,
     "metadata": {},
     "output_type": "execute_result"
    }
   ],
   "source": [
    "promotional_expense[(promotional_expense.Country == \"Columbia\")][\"Expense_Price\"].median()"
   ]
  },
  {
   "cell_type": "code",
   "execution_count": null,
   "metadata": {},
   "outputs": [],
   "source": [
    "train_data[(train_data.Country == \"Argentina\") & (train_data.Product_ID == 2)].reset_index().plot(x=\"Expense_Price\", y=\"Sales\", marker='o', linestyle='none')"
   ]
  },
  {
   "cell_type": "code",
   "execution_count": 23,
   "metadata": {},
   "outputs": [],
   "source": [
    "train_data[(train_data.Product_ID == 3) & (train_data.Country == \"Argentina\")] = train_data[(train_data.Product_ID == 3) & (train_data.Country == \"Argentina\")].fillna(5347.145)\n",
    "new_test_data[(new_test_data.Product_ID == 3) & (new_test_data.Country == \"Argentina\")] = new_test_data[(new_test_data.Product_ID == 3) & (new_test_data.Country == \"Argentina\")].fillna(5347.145)"
   ]
  },
  {
   "cell_type": "code",
   "execution_count": 24,
   "metadata": {},
   "outputs": [],
   "source": [
    "train_data[(train_data.Product_ID == 3) & (train_data.Country == \"Columbia\")] = train_data[(train_data.Product_ID == 3) & (train_data.Country == \"Columbia\")].fillna(2022.8995)\n",
    "new_test_data[(new_test_data.Product_ID == 3) & (new_test_data.Country == \"Columbia\")] = new_test_data[(new_test_data.Product_ID == 3) & (new_test_data.Country == \"Columbia\")].fillna(2022.8995)"
   ]
  },
  {
   "cell_type": "code",
   "execution_count": null,
   "metadata": {},
   "outputs": [],
   "source": [
    "# ex_argentina = 0.036\n",
    "# ex_belgium = 1.17\n",
    "# ex_columbia = 0.00035\n",
    "# ex_denmark = 0.16\n",
    "# ex_england = 1.30\n",
    "# ex_finland = 1.17"
   ]
  },
  {
   "cell_type": "code",
   "execution_count": null,
   "metadata": {},
   "outputs": [],
   "source": [
    "# def normalize_currency(item):\n",
    "#     if item.Country == \"Argentina\":\n",
    "#         return item.Sales * ex_argentina\n",
    "#     elif item.Country == \"Belgium\":\n",
    "#         return item.Sales * ex_belgium\n",
    "#     elif item.Country == \"Columbia\":\n",
    "#         return item.Sales * ex_columbia\n",
    "#     elif item.Country == \"Denmark\":\n",
    "#         return item.Sales * ex_denmark\n",
    "#     elif item.Country == \"England\":\n",
    "#         return item.Sales * ex_england\n",
    "#     elif item.Country == \"Finland\":\n",
    "#         return item.Sales * ex_finland"
   ]
  },
  {
   "cell_type": "code",
   "execution_count": 25,
   "metadata": {},
   "outputs": [],
   "source": [
    "sales_bk = train_data['Sales'].copy()"
   ]
  },
  {
   "cell_type": "code",
   "execution_count": null,
   "metadata": {},
   "outputs": [],
   "source": [
    "train_data['Sales'] = sales_bk"
   ]
  },
  {
   "cell_type": "code",
   "execution_count": null,
   "metadata": {},
   "outputs": [],
   "source": [
    "from scipy.special import boxcox1p\n",
    "min_sales = train_data['Sales'].min()\n",
    "#arr, _ = stats.boxcox(train_data['Sales'] + abs(min_sales) + 1)\n",
    "arr = np.log1p(train_data['Sales'] + abs(min_sales))\n",
    "train_data['Sales'] = pd.Series(arr)\n",
    "train_data = train_data.dropna(subset=['Sales'])"
   ]
  },
  {
   "cell_type": "code",
   "execution_count": 26,
   "metadata": {},
   "outputs": [
    {
     "data": {
      "text/plain": [
       "<matplotlib.axes._subplots.AxesSubplot at 0x1aa20d068d0>"
      ]
     },
     "execution_count": 26,
     "metadata": {},
     "output_type": "execute_result"
    },
    {
     "data": {
      "image/png": "[encoded data removed]",
      "text/plain": [
       "<Figure size 432x288 with 1 Axes>"
      ]
     },
     "metadata": {},
     "output_type": "display_data"
    }
   ],
   "source": [
    "train_data['Sales'].plot()"
   ]
  },
  {
   "cell_type": "code",
   "execution_count": null,
   "metadata": {},
   "outputs": [],
   "source": [
    "train_data = train_data.drop([27728])"
   ]
  },
  {
   "cell_type": "code",
   "execution_count": null,
   "metadata": {},
   "outputs": [],
   "source": [
    "train_data.columns"
   ]
  },
  {
   "cell_type": "code",
   "execution_count": null,
   "metadata": {},
   "outputs": [],
   "source": [
    "train_data.dtypes"
   ]
  },
  {
   "cell_type": "code",
   "execution_count": 46,
   "metadata": {},
   "outputs": [],
   "source": [
    "from sklearn.ensemble import RandomForestRegressor\n",
    "from sklearn.model_selection import train_test_split\n",
    "\n",
    "X_train, X_test, y_train, y_test = train_test_split(train_data[['Year', 'Month', 'Merchant_ID_cid', 'Expense_Price', 'Holidays'] + imp_features + country_features + product_features], train_data['Sales'], test_size=0.0, random_state=42)"
   ]
  },
  {
   "cell_type": "code",
   "execution_count": 30,
   "metadata": {},
   "outputs": [],
   "source": [
    "def smape_rf(preds,y):\n",
    "    # y = y.get_label()\n",
    "    score = 100*(np.sum(2*np.absolute(preds-y)/(np.absolute(preds)+np.absolute(y))))/len(y)\n",
    "    return 'smape', score"
   ]
  },
  {
   "cell_type": "code",
   "execution_count": 47,
   "metadata": {
    "scrolled": true
   },
   "outputs": [
    {
     "data": {
      "text/plain": [
       "RandomForestRegressor(bootstrap=True, criterion='mae', max_depth=None,\n",
       "           max_features='auto', max_leaf_nodes=None,\n",
       "           min_impurity_decrease=0.0, min_impurity_split=None,\n",
       "           min_samples_leaf=1, min_samples_split=2,\n",
       "           min_weight_fraction_leaf=0.0, n_estimators=10, n_jobs=6,\n",
       "           oob_score=False, random_state=1, verbose=0, warm_start=False)"
      ]
     },
     "execution_count": 47,
     "metadata": {},
     "output_type": "execute_result"
    }
   ],
   "source": [
    "regr = RandomForestRegressor(n_estimators=10, max_depth=None, random_state=1, n_jobs=6, criterion=\"mae\")\n",
    "regr.fit(X_train, y_train)\n",
    "#regr.score(X_test, y_test)"
   ]
  },
  {
   "cell_type": "code",
   "execution_count": 35,
   "metadata": {},
   "outputs": [
    {
     "data": {
      "text/plain": [
       "('smape', 57.96432561374112)"
      ]
     },
     "execution_count": 35,
     "metadata": {},
     "output_type": "execute_result"
    }
   ],
   "source": [
    "smape_rf(regr.predict(X_test), y_test)"
   ]
  },
  {
   "cell_type": "code",
   "execution_count": 36,
   "metadata": {},
   "outputs": [
    {
     "data": {
      "text/plain": [
       "array([6.71068588e-02, 7.05646156e-02, 6.56137667e-01, 1.19908870e-01,\n",
       "       1.50385759e-03, 7.11990600e-04, 1.39129643e-03, 1.22295906e-03,\n",
       "       1.56099038e-03, 1.99449824e-03, 1.61388674e-03, 9.88746922e-04,\n",
       "       1.56735064e-03, 1.27891416e-03, 1.98199154e-03, 2.03802115e-03,\n",
       "       1.64182278e-03, 1.64355010e-03, 1.39324967e-03, 1.52112538e-03,\n",
       "       1.25212839e-03, 2.50567958e-03, 1.35151099e-03, 2.34812457e-03,\n",
       "       1.32282298e-03, 1.34460428e-03, 1.24578628e-03, 1.41222292e-03,\n",
       "       1.29632581e-03, 1.34675703e-03, 1.93605447e-03, 1.44666492e-03,\n",
       "       1.09153181e-03, 1.48973457e-03, 1.38750018e-03, 1.16868807e-03,\n",
       "       1.19302204e-03, 1.42767717e-03, 1.86363354e-03, 1.13871729e-03,\n",
       "       9.81669568e-04, 1.34635999e-03, 1.38175418e-05, 7.28852595e-07,\n",
       "       1.42607252e-05, 0.00000000e+00, 1.22555949e-05, 1.33451432e-05,\n",
       "       7.44835537e-03, 1.34660751e-02, 8.85608856e-03, 2.30979880e-04,\n",
       "       2.74613445e-04])"
      ]
     },
     "execution_count": 36,
     "metadata": {},
     "output_type": "execute_result"
    }
   ],
   "source": [
    "regr.feature_importances_"
   ]
  },
  {
   "cell_type": "code",
   "execution_count": null,
   "metadata": {},
   "outputs": [],
   "source": [
    "X_test_cached = X_test.copy()\n",
    "y_test_cached = y_test.copy()"
   ]
  },
  {
   "cell_type": "code",
   "execution_count": null,
   "metadata": {},
   "outputs": [],
   "source": [
    "from sklearn.ensemble import GradientBoostingRegressor\n",
    "\n",
    "regr = GradientBoostingRegressor(max_depth=3, random_state=1)\n",
    "regr.fit(X_train, y_train)\n",
    "regr.score(X_test, y_test)"
   ]
  },
  {
   "cell_type": "code",
   "execution_count": 48,
   "metadata": {},
   "outputs": [],
   "source": [
    "submission_data = new_test_data.copy()\n",
    "submission_data['Sales'] = regr.predict(new_test_data[['Year', 'Month', 'Merchant_ID_cid', 'Expense_Price', 'Holidays'] + imp_features + country_features + product_features])\n",
    "# submission_data['Sales'] = np.expm1(submission_data['Sales']) - min_sales"
   ]
  },
  {
   "cell_type": "code",
   "execution_count": 49,
   "metadata": {},
   "outputs": [],
   "source": [
    "submission_data = submission_data.drop(columns=[\"Expense_Price\", \"Country_cid\", \"Merchant_ID\", \"Merchant_ID_cid\", \"Holidays\"] + imp_features  + country_features + product_features)"
   ]
  },
  {
   "cell_type": "code",
   "execution_count": 50,
   "metadata": {},
   "outputs": [
    {
     "data": {
      "text/html": [
       "<div>\n",
       "<style scoped>\n",
       "    .dataframe tbody tr th:only-of-type {\n",
       "        vertical-align: middle;\n",
       "    }\n",
       "\n",
       "    .dataframe tbody tr th {\n",
       "        vertical-align: top;\n",
       "    }\n",
       "\n",
       "    .dataframe thead th {\n",
       "        text-align: right;\n",
       "    }\n",
       "</style>\n",
       "<table border=\"1\" class=\"dataframe\">\n",
       "  <thead>\n",
       "    <tr style=\"text-align: right;\">\n",
       "      <th></th>\n",
       "      <th>S_No</th>\n",
       "      <th>Year</th>\n",
       "      <th>Month</th>\n",
       "      <th>Product_ID</th>\n",
       "      <th>Country</th>\n",
       "      <th>Sales</th>\n",
       "    </tr>\n",
       "  </thead>\n",
       "  <tbody>\n",
       "    <tr>\n",
       "      <th>0</th>\n",
       "      <td>79073</td>\n",
       "      <td>2016</td>\n",
       "      <td>4</td>\n",
       "      <td>1</td>\n",
       "      <td>Argentina</td>\n",
       "      <td>2741917.50</td>\n",
       "    </tr>\n",
       "    <tr>\n",
       "      <th>1</th>\n",
       "      <td>79073</td>\n",
       "      <td>2016</td>\n",
       "      <td>4</td>\n",
       "      <td>1</td>\n",
       "      <td>Argentina</td>\n",
       "      <td>29610.00</td>\n",
       "    </tr>\n",
       "    <tr>\n",
       "      <th>2</th>\n",
       "      <td>79073</td>\n",
       "      <td>2016</td>\n",
       "      <td>4</td>\n",
       "      <td>1</td>\n",
       "      <td>Argentina</td>\n",
       "      <td>199710.00</td>\n",
       "    </tr>\n",
       "    <tr>\n",
       "      <th>3</th>\n",
       "      <td>79073</td>\n",
       "      <td>2016</td>\n",
       "      <td>4</td>\n",
       "      <td>1</td>\n",
       "      <td>Argentina</td>\n",
       "      <td>48825.00</td>\n",
       "    </tr>\n",
       "    <tr>\n",
       "      <th>4</th>\n",
       "      <td>79073</td>\n",
       "      <td>2016</td>\n",
       "      <td>4</td>\n",
       "      <td>1</td>\n",
       "      <td>Argentina</td>\n",
       "      <td>35549.43</td>\n",
       "    </tr>\n",
       "  </tbody>\n",
       "</table>\n",
       "</div>"
      ],
      "text/plain": [
       "    S_No  Year  Month  Product_ID    Country       Sales\n",
       "0  79073  2016      4           1  Argentina  2741917.50\n",
       "1  79073  2016      4           1  Argentina    29610.00\n",
       "2  79073  2016      4           1  Argentina   199710.00\n",
       "3  79073  2016      4           1  Argentina    48825.00\n",
       "4  79073  2016      4           1  Argentina    35549.43"
      ]
     },
     "execution_count": 50,
     "metadata": {},
     "output_type": "execute_result"
    }
   ],
   "source": [
    "submission_data.head()"
   ]
  },
  {
   "cell_type": "code",
   "execution_count": 51,
   "metadata": {},
   "outputs": [],
   "source": [
    "submission_data = submission_data.groupby(['S_No', 'Year', 'Month', 'Product_ID', 'Country']).sum().reset_index(level=4)"
   ]
  },
  {
   "cell_type": "code",
   "execution_count": 52,
   "metadata": {},
   "outputs": [],
   "source": [
    "submission_data.to_csv(\"submission13_smape.csv\")"
   ]
  },
  {
   "cell_type": "code",
   "execution_count": null,
   "metadata": {},
   "outputs": [],
   "source": [
    "test123 = pd.read_csv(\"submission.csv\")"
   ]
  },
  {
   "cell_type": "code",
   "execution_count": null,
   "metadata": {},
   "outputs": [],
   "source": [
    "from xgboost import XGBRegressor\n",
    "regr = XGBRegressor(max_depth=3, n_jobs=4, random_state=52)\n",
    "regr.fit(X_train, y_train)\n",
    "regr.score(X_test, y_test)"
   ]
  },
  {
   "cell_type": "code",
   "execution_count": 45,
   "metadata": {},
   "outputs": [
    {
     "name": "stdout",
     "output_type": "stream",
     "text": [
      "[0]\tvalidation_0-rmse:2.15521e+06\tvalidation_1-rmse:2.41764e+06\tvalidation_0-smape:136.423\tvalidation_1-smape:136.745\n",
      "Multiple eval metrics have been passed: 'validation_1-smape' will be used for early stopping.\n",
      "\n",
      "Will train until validation_1-smape hasn't improved in 10 rounds.\n",
      "[1]\tvalidation_0-rmse:2.15246e+06\tvalidation_1-rmse:2.41553e+06\tvalidation_0-smape:124.275\tvalidation_1-smape:125.131\n",
      "[2]\tvalidation_0-rmse:2.14946e+06\tvalidation_1-rmse:2.41345e+06\tvalidation_0-smape:129.605\tvalidation_1-smape:130.464\n",
      "[3]\tvalidation_0-rmse:2.14491e+06\tvalidation_1-rmse:2.40994e+06\tvalidation_0-smape:128.403\tvalidation_1-smape:129.247\n",
      "[4]\tvalidation_0-rmse:1.97868e+06\tvalidation_1-rmse:2.21996e+06\tvalidation_0-smape:127.12\tvalidation_1-smape:127.888\n",
      "[5]\tvalidation_0-rmse:1.97621e+06\tvalidation_1-rmse:2.21791e+06\tvalidation_0-smape:127.771\tvalidation_1-smape:128.541\n",
      "[6]\tvalidation_0-rmse:1.97551e+06\tvalidation_1-rmse:2.21727e+06\tvalidation_0-smape:131.372\tvalidation_1-smape:132.241\n",
      "[7]\tvalidation_0-rmse:1.97464e+06\tvalidation_1-rmse:2.21669e+06\tvalidation_0-smape:135.797\tvalidation_1-smape:136.82\n",
      "[8]\tvalidation_0-rmse:1.97118e+06\tvalidation_1-rmse:2.2152e+06\tvalidation_0-smape:134.684\tvalidation_1-smape:135.78\n",
      "[9]\tvalidation_0-rmse:1.97069e+06\tvalidation_1-rmse:2.21478e+06\tvalidation_0-smape:136.619\tvalidation_1-smape:137.727\n",
      "[10]\tvalidation_0-rmse:1.82937e+06\tvalidation_1-rmse:2.05667e+06\tvalidation_0-smape:135.025\tvalidation_1-smape:136.166\n",
      "[11]\tvalidation_0-rmse:1.69091e+06\tvalidation_1-rmse:1.89978e+06\tvalidation_0-smape:133.606\tvalidation_1-smape:134.707\n",
      "Stopping. Best iteration:\n",
      "[1]\tvalidation_0-rmse:2.15246e+06\tvalidation_1-rmse:2.41553e+06\tvalidation_0-smape:124.275\tvalidation_1-smape:125.131\n",
      "\n"
     ]
    },
    {
     "data": {
      "text/plain": [
       "XGBModel(base_score=0.5, booster='gbtree', colsample_bylevel=1,\n",
       "     colsample_bytree=0.2, eta=0.01, gamma=0, learning_rate=0.1,\n",
       "     max_delta_step=0, max_depth=5, min_child_weight=1, missing=None,\n",
       "     n_estimators=10000, n_jobs=7, nthread=None, objective='reg:linear',\n",
       "     random_state=0, reg_alpha=0.1, reg_lambda=0.8, scale_pos_weight=1,\n",
       "     seed=None, silent=True, subsample=0.5)"
      ]
     },
     "execution_count": 45,
     "metadata": {},
     "output_type": "execute_result"
    }
   ],
   "source": [
    "def smape(preds,y):\n",
    "    y = y.get_label()\n",
    "    score = 100*(np.sum(2*np.absolute(preds-y)/(np.absolute(preds)+np.absolute(y))))/len(y)\n",
    "    return 'smape', score\n",
    "\n",
    "import xgboost as xgb_raw\n",
    "import scipy\n",
    "\n",
    "xgb = xgb_raw.XGBModel(n_estimators= 10000,eta = 0.01, max_depth = 5, subsample = 0.5, colsample_bytree = 0.2,reg_alpha=0.1, reg_lambda=0.8,n_jobs = 7, objective = 'reg:linear')\n",
    "eval_set  = [(X_train,y_train), (X_test,y_test)]\n",
    "xgb.fit(X_train,y_train,verbose = True, eval_set = eval_set,eval_metric = smape,early_stopping_rounds=10)"
   ]
  },
  {
   "cell_type": "code",
   "execution_count": null,
   "metadata": {},
   "outputs": [],
   "source": [
    "import xgboost as xgb\n",
    "xgb = xgb.XGBModel(n_estimators= 10000,eta = 0.01, max_depth = 7, subsample = 0.5, colsample_bytree = 0.2,reg_alpha=0.1, reg_lambda=0.2,n_jobs = 7)\n",
    "eval_set  = [(X_train,y_train), (X_test_cached,y_test_cached)]\n",
    "xgb.fit(X_train,y_train,verbose = True, eval_set = eval_set,eval_metric = 'error',early_stopping_rounds=10)"
   ]
  },
  {
   "cell_type": "code",
   "execution_count": null,
   "metadata": {},
   "outputs": [],
   "source": [
    "submission_data = new_test_data.copy()\n",
    "submission_data['Sales'] = xgb.predict(new_test_data[['Year', 'Month', 'Merchant_ID_cid', 'Product_ID', 'Country_cid', 'Expense_Price', 'Holidays']])\n",
    "\n",
    "submission_data = submission_data.drop(columns=[\"Expense_Price\", \"Country_cid\", \"Merchant_ID\", \"Merchant_ID_cid\", \"Holidays\"])\n",
    "submission_data = submission_data.groupby(['S_No', 'Year', 'Month', 'Product_ID', 'Country']).sum().reset_index(level=4)"
   ]
  },
  {
   "cell_type": "code",
   "execution_count": null,
   "metadata": {},
   "outputs": [],
   "source": [
    "submission_data.to_csv(\"submission4.csv\")"
   ]
  }
 ],
 "metadata": {
  "kernelspec": {
   "display_name": "Python 3",
   "language": "python",
   "name": "python3"
  },
  "language_info": {
   "codemirror_mode": {
    "name": "ipython",
    "version": 3
   },
   "file_extension": ".py",
   "mimetype": "text/x-python",
   "name": "python",
   "nbconvert_exporter": "python",
   "pygments_lexer": "ipython3",
   "version": "3.6.5"
  }
 },
 "nbformat": 4,
 "nbformat_minor": 2
}
